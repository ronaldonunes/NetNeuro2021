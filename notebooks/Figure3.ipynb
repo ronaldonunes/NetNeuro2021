{
 "cells": [
  {
   "cell_type": "markdown",
   "metadata": {},
   "source": [
    "## Figure3"
   ]
  },
  {
   "cell_type": "code",
   "execution_count": 2,
   "metadata": {},
   "outputs": [],
   "source": [
    "## packages\n",
    "import numpy as np\n",
    "import matplotlib.pyplot as plt\n",
    "from scipy.io import loadmat\n",
    "from sklearn.linear_model import LinearRegression\n",
    "from sklearn.metrics import mean_squared_error, r2_score, accuracy_score\n",
    "import matplotlib as mpl\n",
    "import pandas as pd\n",
    "from sklearn.metrics import auc"
   ]
  },
  {
   "cell_type": "code",
   "execution_count": 5,
   "metadata": {},
   "outputs": [],
   "source": [
    "## Paths\n",
    "pathData = '../data/'\n",
    "pathFln = '../data/Connectome/Kennedy.mat'"
   ]
  },
  {
   "cell_type": "code",
   "execution_count": 6,
   "metadata": {},
   "outputs": [],
   "source": [
    "# Create dataframe\n",
    "Seeds=10\n",
    "N=19\n",
    "listDF=[]\n",
    "\n",
    "for seed in range(Seeds):\n",
    "\n",
    "    # Fln\n",
    "    conn = loadmat(pathFln)\n",
    "    conn=conn['Fln']\n",
    "    # GPDC\n",
    "    dataGpdc=np.load(pathData+'Seed'+str(seed+1)+'/gpdc.npz')\n",
    "    fGpdc=dataGpdc['arr_0']\n",
    "    gpdcMatrix=dataGpdc['arr_1'] \n",
    "    # Firing Rate \n",
    "    dataFr=np.load(pathData+'Seed'+str(seed+1)+'/firingRate.npz')\n",
    "    frMatrix=dataFr['arr_0']\n",
    " \n",
    "    for i in range(N): # source\n",
    "        for j in range(N): # target\n",
    "            listTemp=[]\n",
    "            if i!=j:\n",
    "                # source\n",
    "                listTemp.append(i) \n",
    "                # target\n",
    "                listTemp.append(j)\n",
    "                # fln\n",
    "                listTemp.append(conn[i,j])\n",
    "                # seed\n",
    "                listTemp.append(seed+1)\n",
    "                # fr_exc_source\n",
    "                listTemp.append(frMatrix[i,0])\n",
    "                # fr_inh_source\n",
    "                listTemp.append(frMatrix[i,1])\n",
    "                # fr_total_source\n",
    "                listTemp.append(frMatrix[i,2])\n",
    "                # fr_exc_target\n",
    "                listTemp.append(frMatrix[j,0])\n",
    "                # fr_inh_target\n",
    "                listTemp.append(frMatrix[j,1])\n",
    "                # fr_total_target\n",
    "                listTemp.append(frMatrix[j,2])\n",
    "                # gpdc_peak\n",
    "                listTemp.append(np.max(gpdcMatrix[j,i,:]))\n",
    "                # gpdc_auc\n",
    "                listTemp.append(auc(fGpdc,np.squeeze(gpdcMatrix[j,i,:])))\n",
    "    \n",
    "                listDF.append(listTemp)\n",
    "\n",
    "col=['source', 'target','fln', 'seed', 'fr_exc_source', 'fr_inh_source', \n",
    "     'fr_total_source', 'fr_exc_target', 'fr_inh_target', \n",
    "     'fr_total_target','gpdc_peak','gpdc_auc']\n",
    "\n",
    "# Create DataFrame\n",
    "df = pd.DataFrame(listDF, columns = col)                   \n"
   ]
  },
  {
   "cell_type": "code",
   "execution_count": 7,
   "metadata": {},
   "outputs": [
    {
     "data": {
      "text/html": [
       "<div>\n",
       "<style scoped>\n",
       "    .dataframe tbody tr th:only-of-type {\n",
       "        vertical-align: middle;\n",
       "    }\n",
       "\n",
       "    .dataframe tbody tr th {\n",
       "        vertical-align: top;\n",
       "    }\n",
       "\n",
       "    .dataframe thead th {\n",
       "        text-align: right;\n",
       "    }\n",
       "</style>\n",
       "<table border=\"1\" class=\"dataframe\">\n",
       "  <thead>\n",
       "    <tr style=\"text-align: right;\">\n",
       "      <th></th>\n",
       "      <th>source</th>\n",
       "      <th>target</th>\n",
       "      <th>fln</th>\n",
       "      <th>seed</th>\n",
       "      <th>fr_exc_source</th>\n",
       "      <th>fr_inh_source</th>\n",
       "      <th>fr_total_source</th>\n",
       "      <th>fr_exc_target</th>\n",
       "      <th>fr_inh_target</th>\n",
       "      <th>fr_total_target</th>\n",
       "      <th>gpdc_peak</th>\n",
       "      <th>gpdc_auc</th>\n",
       "    </tr>\n",
       "  </thead>\n",
       "  <tbody>\n",
       "    <tr>\n",
       "      <th>0</th>\n",
       "      <td>0</td>\n",
       "      <td>1</td>\n",
       "      <td>0.000137</td>\n",
       "      <td>1</td>\n",
       "      <td>3.191958</td>\n",
       "      <td>4.7765</td>\n",
       "      <td>3.508867</td>\n",
       "      <td>3.181375</td>\n",
       "      <td>4.731750</td>\n",
       "      <td>3.491450</td>\n",
       "      <td>0.003790</td>\n",
       "      <td>0.426005</td>\n",
       "    </tr>\n",
       "    <tr>\n",
       "      <th>1</th>\n",
       "      <td>0</td>\n",
       "      <td>2</td>\n",
       "      <td>0.052330</td>\n",
       "      <td>1</td>\n",
       "      <td>3.191958</td>\n",
       "      <td>4.7765</td>\n",
       "      <td>3.508867</td>\n",
       "      <td>3.573625</td>\n",
       "      <td>4.734250</td>\n",
       "      <td>3.805750</td>\n",
       "      <td>0.115722</td>\n",
       "      <td>10.869419</td>\n",
       "    </tr>\n",
       "    <tr>\n",
       "      <th>2</th>\n",
       "      <td>0</td>\n",
       "      <td>3</td>\n",
       "      <td>0.005557</td>\n",
       "      <td>1</td>\n",
       "      <td>3.191958</td>\n",
       "      <td>4.7765</td>\n",
       "      <td>3.508867</td>\n",
       "      <td>3.154812</td>\n",
       "      <td>4.794417</td>\n",
       "      <td>3.482733</td>\n",
       "      <td>0.010966</td>\n",
       "      <td>1.423932</td>\n",
       "    </tr>\n",
       "    <tr>\n",
       "      <th>3</th>\n",
       "      <td>0</td>\n",
       "      <td>4</td>\n",
       "      <td>0.011400</td>\n",
       "      <td>1</td>\n",
       "      <td>3.191958</td>\n",
       "      <td>4.7765</td>\n",
       "      <td>3.508867</td>\n",
       "      <td>3.060188</td>\n",
       "      <td>4.638000</td>\n",
       "      <td>3.375750</td>\n",
       "      <td>0.011176</td>\n",
       "      <td>2.535907</td>\n",
       "    </tr>\n",
       "    <tr>\n",
       "      <th>4</th>\n",
       "      <td>0</td>\n",
       "      <td>5</td>\n",
       "      <td>0.003106</td>\n",
       "      <td>1</td>\n",
       "      <td>3.191958</td>\n",
       "      <td>4.7765</td>\n",
       "      <td>3.508867</td>\n",
       "      <td>3.937375</td>\n",
       "      <td>4.748167</td>\n",
       "      <td>4.099533</td>\n",
       "      <td>0.095930</td>\n",
       "      <td>6.907251</td>\n",
       "    </tr>\n",
       "  </tbody>\n",
       "</table>\n",
       "</div>"
      ],
      "text/plain": [
       "   source  target       fln  seed  fr_exc_source  fr_inh_source  \\\n",
       "0       0       1  0.000137     1       3.191958         4.7765   \n",
       "1       0       2  0.052330     1       3.191958         4.7765   \n",
       "2       0       3  0.005557     1       3.191958         4.7765   \n",
       "3       0       4  0.011400     1       3.191958         4.7765   \n",
       "4       0       5  0.003106     1       3.191958         4.7765   \n",
       "\n",
       "   fr_total_source  fr_exc_target  fr_inh_target  fr_total_target  gpdc_peak  \\\n",
       "0         3.508867       3.181375       4.731750         3.491450   0.003790   \n",
       "1         3.508867       3.573625       4.734250         3.805750   0.115722   \n",
       "2         3.508867       3.154812       4.794417         3.482733   0.010966   \n",
       "3         3.508867       3.060188       4.638000         3.375750   0.011176   \n",
       "4         3.508867       3.937375       4.748167         4.099533   0.095930   \n",
       "\n",
       "    gpdc_auc  \n",
       "0   0.426005  \n",
       "1  10.869419  \n",
       "2   1.423932  \n",
       "3   2.535907  \n",
       "4   6.907251  "
      ]
     },
     "execution_count": 7,
     "metadata": {},
     "output_type": "execute_result"
    }
   ],
   "source": [
    "df.head()"
   ]
  },
  {
   "cell_type": "markdown",
   "metadata": {},
   "source": [
    "## Fr target vs GPDC mean to target (weighted by Firing Rate source)"
   ]
  },
  {
   "cell_type": "code",
   "execution_count": 8,
   "metadata": {},
   "outputs": [],
   "source": [
    "listFr=[]\n",
    "meanGPDC=[]\n",
    "\n",
    "for seedValues in range(1,11):\n",
    "    for targetValues in range(19):\n",
    "        \n",
    "\n",
    "        dfTemp=df.loc[(df[\"seed\"] == seedValues) & (df[\"target\"] == targetValues)]  \n",
    "        listFr.append(np.mean(dfTemp['fr_total_target']))\n",
    "        meanGPDC.append(np.sum(dfTemp['gpdc_peak']*dfTemp['fr_total_source']))\n"
   ]
  },
  {
   "cell_type": "code",
   "execution_count": 9,
   "metadata": {},
   "outputs": [
    {
     "data": {
      "text/plain": [
       "(0.0, 3.0)"
      ]
     },
     "execution_count": 9,
     "metadata": {},
     "output_type": "execute_result"
    },
    {
     "data": {
      "image/png": "[encoded data removed]",
      "text/plain": [
       "<Figure size 640x400 with 1 Axes>"
      ]
     },
     "metadata": {},
     "output_type": "display_data"
    }
   ],
   "source": [
    "fig=plt.figure(figsize=(8, 5), dpi= 80, facecolor='w', edgecolor='k')\n",
    "\n",
    "mpl.rcParams['axes.spines.right'] = False\n",
    "mpl.rcParams['axes.spines.top'] = False\n",
    "\n",
    "plt.plot(listFr,meanGPDC,'b.',markersize=12)\n",
    "\n",
    "\n",
    "# linear regression\n",
    "X = np.array(listFr)\n",
    "y = meanGPDC\n",
    "X = X.reshape(len(X), 1)\n",
    "reg = LinearRegression().fit(X, y) \n",
    "plt.plot(X, reg.predict(X), color='red', linewidth=1)\n",
    "plt.text(5.25, 0.0010, 'R-squared = %0.2f' % (r2_score(y, reg.predict(X))),fontsize=12)\n",
    "\n",
    "\n",
    "plt.ylabel('GPDC mean',fontsize=15)\n",
    "plt.xlabel('Firing Rate Target',fontsize=15)\n",
    "plt.xlim([2.5, 5])\n",
    "plt.ylim([0.000, 3])"
   ]
  },
  {
   "cell_type": "markdown",
   "metadata": {},
   "source": [
    "## Fr target vs FLN mean to target (weighted by Firing Rate source)\n"
   ]
  },
  {
   "cell_type": "code",
   "execution_count": 10,
   "metadata": {},
   "outputs": [],
   "source": [
    "listFr=[]\n",
    "meanFLN=[]\n",
    "\n",
    "for seedValues in range(1,11):\n",
    "    for targetValues in range(19):\n",
    "\n",
    "        dfTemp=df.loc[(df[\"seed\"] == seedValues) & (df[\"target\"] == targetValues)]  \n",
    "        listFr.append(np.mean(dfTemp['fr_total_target']))\n",
    "        meanFLN.append(np.sum(dfTemp['fln']*dfTemp['fr_total_source']))\n",
    "    "
   ]
  },
  {
   "cell_type": "code",
   "execution_count": 11,
   "metadata": {},
   "outputs": [
    {
     "data": {
      "text/plain": [
       "(0.0, 4.0)"
      ]
     },
     "execution_count": 11,
     "metadata": {},
     "output_type": "execute_result"
    },
    {
     "data": {
      "image/png": "[encoded data removed]",
      "text/plain": [
       "<Figure size 640x400 with 1 Axes>"
      ]
     },
     "metadata": {},
     "output_type": "display_data"
    }
   ],
   "source": [
    "fig=plt.figure(figsize=(8, 5), dpi= 80, facecolor='w', edgecolor='k')\n",
    "\n",
    "mpl.rcParams['axes.spines.right'] = False\n",
    "mpl.rcParams['axes.spines.top'] = False\n",
    "\n",
    "plt.plot(listFr,meanFLN,'b.',markersize=12)\n",
    "\n",
    "\n",
    "# linear regression\n",
    "X = np.array(listFr)\n",
    "y = meanFLN\n",
    "X = X.reshape(len(X), 1)\n",
    "reg = LinearRegression().fit(X, y) \n",
    "plt.plot(X, reg.predict(X), color='red', linewidth=1)\n",
    "plt.text(5.25, 0.0010, 'R-squared = %0.2f' % (r2_score(y, reg.predict(X))),fontsize=12)\n",
    "\n",
    "\n",
    "plt.ylabel('FLN mean',fontsize=15)\n",
    "plt.xlabel('Firing Rate Target',fontsize=15)\n",
    "plt.xlim([2.5, 5])\n",
    "plt.ylim([0.000, 4])"
   ]
  }
 ],
 "metadata": {
  "kernelspec": {
   "display_name": "Python 3",
   "language": "python",
   "name": "python3"
  },
  "language_info": {
   "codemirror_mode": {
    "name": "ipython",
    "version": 3
   },
   "file_extension": ".py",
   "mimetype": "text/x-python",
   "name": "python",
   "nbconvert_exporter": "python",
   "pygments_lexer": "ipython3",
   "version": "3.7.9"
  }
 },
 "nbformat": 4,
 "nbformat_minor": 2
}
