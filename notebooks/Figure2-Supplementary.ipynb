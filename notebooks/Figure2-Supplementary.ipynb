{
 "cells": [
  {
   "cell_type": "markdown",
   "metadata": {},
   "source": [
    "### Figure 2\n",
    " "
   ]
  },
  {
   "cell_type": "code",
   "execution_count": 20,
   "metadata": {},
   "outputs": [],
   "source": [
    "## packages\n",
    "import numpy as np\n",
    "import matplotlib.pyplot as plt\n",
    "from scipy.io import loadmat\n",
    "from sklearn.linear_model import LinearRegression\n",
    "from sklearn.metrics import r2_score\n",
    "import matplotlib as mpl\n",
    "import pandas as pd\n",
    "import seaborn as sns\n",
    "from sklearn import metrics\n",
    "from scipy import stats"
   ]
  },
  {
   "cell_type": "markdown",
   "metadata": {},
   "source": [
    "## All areas"
   ]
  },
  {
   "cell_type": "code",
   "execution_count": 3,
   "metadata": {},
   "outputs": [],
   "source": [
    "# paths to load data\n",
    "pathData = '/home/ronaldo/Dados/ProjectUfabc/MouseData/SimulationData/'\n",
    "pathFln = '/home/ronaldo/github/ProjectUfabc/MouseKennedySNN/Data/Connectome/Kennedy.mat'\n",
    "\n",
    "# Number of areas\n",
    "Nareas=19\n",
    "# Numver of trials\n",
    "Ntrials=10"
   ]
  },
  {
   "cell_type": "markdown",
   "metadata": {},
   "source": [
    "#### FLN"
   ]
  },
  {
   "cell_type": "code",
   "execution_count": 5,
   "metadata": {},
   "outputs": [],
   "source": [
    "# Structural Connectivity\n",
    "# Fln\n",
    "# load FLNs\n",
    "conn = loadmat(pathFln)\n",
    "fln=conn['Fln']"
   ]
  },
  {
   "cell_type": "markdown",
   "metadata": {},
   "source": [
    "#### GPDC Total"
   ]
  },
  {
   "cell_type": "code",
   "execution_count": 10,
   "metadata": {},
   "outputs": [],
   "source": [
    "# Gpdc (Downsample 1kHz)\n",
    "\n",
    "# matrix to store gpdc values\n",
    "gpdcMatrixAUC=np.zeros((Nareas,Nareas,Ntrials)) #(i->j)\n",
    "gpdcMatrixMean=np.zeros((Nareas,Nareas,Ntrials)) #(i->j)\n",
    "\n",
    "\n",
    "for i in range(Ntrials):\n",
    "    #  load GPDC\n",
    "    data = np.load(pathData+'/Seed'+str(i+1)+'/gpdc.npz')\n",
    "    # gpdc values\n",
    "    gpdc=data['arr_1']\n",
    "    # take mean of gpdc \n",
    "    gpdcMatrixMean[:,:,i]=np.mean(gpdc[:,:,:],axis=2).T\n",
    "    \n",
    "    # take auc of gpdc\n",
    "    for k in range(Nareas):\n",
    "        for l in range(Nareas):\n",
    "            gpdcMatrixAUC[k,l,i]=metrics.auc(data['arr_0'],gpdc[l,k,:])\n"
   ]
  },
  {
   "cell_type": "markdown",
   "metadata": {},
   "source": [
    "#### FLN vs GPDC Total peak   (All FLN including those equal to zero)"
   ]
  },
  {
   "cell_type": "code",
   "execution_count": 30,
   "metadata": {},
   "outputs": [
    {
     "data": {
      "image/png": "[encoded data removed]",
      "text/plain": [
       "<Figure size 800x240 with 2 Axes>"
      ]
     },
     "metadata": {},
     "output_type": "display_data"
    }
   ],
   "source": [
    "# define figure size\n",
    "fig=plt.figure(figsize=(10, 3), dpi= 80, facecolor='w', edgecolor='k')\n",
    "\n",
    "# remove right and top axis\n",
    "mpl.rcParams['axes.spines.right'] = False\n",
    "mpl.rcParams['axes.spines.top'] = False\n",
    "\n",
    "# correlation\n",
    "listCorrelationMean=[]\n",
    "listCorrelationAuc=[]\n",
    "\n",
    "# create data structure for scatter plot\n",
    "for seed in range(Ntrials):\n",
    "\n",
    "    # list to store FLN values\n",
    "    listFln=[]\n",
    "    # list to store GPDC values \n",
    "    listGpdcAuc=[]\n",
    "    listGpdcMean=[]\n",
    "    \n",
    "    for i in range(Nareas):\n",
    "        for j in range(Nareas):\n",
    "            if i!=j:\n",
    "\n",
    "                listFln.append(fln[i,j])\n",
    "                listGpdcMean.append(gpdcMatrixMean[i,j,seed])\n",
    "                listGpdcAuc.append(gpdcMatrixAUC[i,j,seed])\n",
    "    \n",
    "    if seed==4:\n",
    "        # Plot scatter plot\n",
    "        plt.subplot(121)\n",
    "        plt.plot(listFln,listGpdcMean,'.b', markersize=8)\n",
    "        plt.subplot(122)\n",
    "        plt.plot(listFln,listGpdcAuc,'.b', markersize=8)\n",
    "    \n",
    "    listCorrelationMean.append(stats.pearsonr(listFln,listGpdcMean)[0])\n",
    "    listCorrelationAuc.append(stats.pearsonr(listFln,listGpdcAuc)[0])\n"
   ]
  },
  {
   "cell_type": "markdown",
   "metadata": {},
   "source": [
    "#### Average correlation between FLN and GPDC"
   ]
  },
  {
   "cell_type": "code",
   "execution_count": 33,
   "metadata": {},
   "outputs": [],
   "source": [
    "df=pd.DataFrame({'AUC':listCorrelationAuc,'Mean':listCorrelationMean })"
   ]
  },
  {
   "cell_type": "code",
   "execution_count": 36,
   "metadata": {},
   "outputs": [
    {
     "data": {
      "image/png": "[encoded data removed]",
      "text/plain": [
       "<Figure size 320x320 with 1 Axes>"
      ]
     },
     "metadata": {},
     "output_type": "display_data"
    }
   ],
   "source": [
    "fig=plt.figure(figsize=(4, 4), dpi= 80, facecolor='w', edgecolor='k')\n",
    "sns.boxplot(data=df,showmeans=True,meanprops={\"marker\":\"o\",\n",
    "                       \"markerfacecolor\":\"white\", \n",
    "                       \"markeredgecolor\":\"black\",\n",
    "                      \"markersize\":\"10\"})\n",
    "plt.yticks([0.64,0.65,0.66,0.67,0.68])\n",
    "plt.savefig('boxplotSupplementary.svg', format='svg', dpi=100)"
   ]
  },
  {
   "cell_type": "code",
   "execution_count": 39,
   "metadata": {},
   "outputs": [
    {
     "data": {
      "text/plain": [
       "0.6566746043101078"
      ]
     },
     "execution_count": 39,
     "metadata": {},
     "output_type": "execute_result"
    }
   ],
   "source": [
    "np.mean(listCorrelationMean)"
   ]
  },
  {
   "cell_type": "code",
   "execution_count": 62,
   "metadata": {},
   "outputs": [
    {
     "data": {
      "text/plain": [
       "0.7415986908639629"
      ]
     },
     "execution_count": 62,
     "metadata": {},
     "output_type": "execute_result"
    }
   ],
   "source": [
    "np.mean(listCorrelation)"
   ]
  },
  {
   "cell_type": "code",
   "execution_count": 8,
   "metadata": {},
   "outputs": [
    {
     "data": {
      "text/plain": [
       "['arr_0', 'arr_1']"
      ]
     },
     "execution_count": 8,
     "metadata": {},
     "output_type": "execute_result"
    }
   ],
   "source": [
    "data.files"
   ]
  },
  {
   "cell_type": "code",
   "execution_count": 9,
   "metadata": {},
   "outputs": [
    {
     "data": {
      "text/plain": [
       "array([  0. ,   0.5,   1. ,   1.5,   2. ,   2.5,   3. ,   3.5,   4. ,\n",
       "         4.5,   5. ,   5.5,   6. ,   6.5,   7. ,   7.5,   8. ,   8.5,\n",
       "         9. ,   9.5,  10. ,  10.5,  11. ,  11.5,  12. ,  12.5,  13. ,\n",
       "        13.5,  14. ,  14.5,  15. ,  15.5,  16. ,  16.5,  17. ,  17.5,\n",
       "        18. ,  18.5,  19. ,  19.5,  20. ,  20.5,  21. ,  21.5,  22. ,\n",
       "        22.5,  23. ,  23.5,  24. ,  24.5,  25. ,  25.5,  26. ,  26.5,\n",
       "        27. ,  27.5,  28. ,  28.5,  29. ,  29.5,  30. ,  30.5,  31. ,\n",
       "        31.5,  32. ,  32.5,  33. ,  33.5,  34. ,  34.5,  35. ,  35.5,\n",
       "        36. ,  36.5,  37. ,  37.5,  38. ,  38.5,  39. ,  39.5,  40. ,\n",
       "        40.5,  41. ,  41.5,  42. ,  42.5,  43. ,  43.5,  44. ,  44.5,\n",
       "        45. ,  45.5,  46. ,  46.5,  47. ,  47.5,  48. ,  48.5,  49. ,\n",
       "        49.5,  50. ,  50.5,  51. ,  51.5,  52. ,  52.5,  53. ,  53.5,\n",
       "        54. ,  54.5,  55. ,  55.5,  56. ,  56.5,  57. ,  57.5,  58. ,\n",
       "        58.5,  59. ,  59.5,  60. ,  60.5,  61. ,  61.5,  62. ,  62.5,\n",
       "        63. ,  63.5,  64. ,  64.5,  65. ,  65.5,  66. ,  66.5,  67. ,\n",
       "        67.5,  68. ,  68.5,  69. ,  69.5,  70. ,  70.5,  71. ,  71.5,\n",
       "        72. ,  72.5,  73. ,  73.5,  74. ,  74.5,  75. ,  75.5,  76. ,\n",
       "        76.5,  77. ,  77.5,  78. ,  78.5,  79. ,  79.5,  80. ,  80.5,\n",
       "        81. ,  81.5,  82. ,  82.5,  83. ,  83.5,  84. ,  84.5,  85. ,\n",
       "        85.5,  86. ,  86.5,  87. ,  87.5,  88. ,  88.5,  89. ,  89.5,\n",
       "        90. ,  90.5,  91. ,  91.5,  92. ,  92.5,  93. ,  93.5,  94. ,\n",
       "        94.5,  95. ,  95.5,  96. ,  96.5,  97. ,  97.5,  98. ,  98.5,\n",
       "        99. ,  99.5, 100. , 100.5, 101. , 101.5, 102. , 102.5, 103. ,\n",
       "       103.5, 104. , 104.5, 105. , 105.5, 106. , 106.5, 107. , 107.5,\n",
       "       108. , 108.5, 109. , 109.5, 110. , 110.5, 111. , 111.5, 112. ,\n",
       "       112.5, 113. , 113.5, 114. , 114.5, 115. , 115.5, 116. , 116.5,\n",
       "       117. , 117.5, 118. , 118.5, 119. , 119.5, 120. , 120.5, 121. ,\n",
       "       121.5, 122. , 122.5, 123. , 123.5, 124. , 124.5, 125. , 125.5,\n",
       "       126. , 126.5, 127. , 127.5, 128. , 128.5, 129. , 129.5, 130. ,\n",
       "       130.5, 131. , 131.5, 132. , 132.5, 133. , 133.5, 134. , 134.5,\n",
       "       135. , 135.5, 136. , 136.5, 137. , 137.5, 138. , 138.5, 139. ,\n",
       "       139.5, 140. , 140.5, 141. , 141.5, 142. , 142.5, 143. , 143.5,\n",
       "       144. , 144.5, 145. , 145.5, 146. , 146.5, 147. , 147.5, 148. ,\n",
       "       148.5, 149. , 149.5, 150. , 150.5, 151. , 151.5, 152. , 152.5,\n",
       "       153. , 153.5, 154. , 154.5, 155. , 155.5, 156. , 156.5, 157. ,\n",
       "       157.5, 158. , 158.5, 159. , 159.5, 160. , 160.5, 161. , 161.5,\n",
       "       162. , 162.5, 163. , 163.5, 164. , 164.5, 165. , 165.5, 166. ,\n",
       "       166.5, 167. , 167.5, 168. , 168.5, 169. , 169.5, 170. , 170.5,\n",
       "       171. , 171.5, 172. , 172.5, 173. , 173.5, 174. , 174.5, 175. ,\n",
       "       175.5, 176. , 176.5, 177. , 177.5, 178. , 178.5, 179. , 179.5,\n",
       "       180. , 180.5, 181. , 181.5, 182. , 182.5, 183. , 183.5, 184. ,\n",
       "       184.5, 185. , 185.5, 186. , 186.5, 187. , 187.5, 188. , 188.5,\n",
       "       189. , 189.5, 190. , 190.5, 191. , 191.5, 192. , 192.5, 193. ,\n",
       "       193.5, 194. , 194.5, 195. , 195.5, 196. , 196.5, 197. , 197.5,\n",
       "       198. , 198.5, 199. , 199.5, 200. , 200.5, 201. , 201.5, 202. ,\n",
       "       202.5, 203. , 203.5, 204. , 204.5, 205. , 205.5, 206. , 206.5,\n",
       "       207. , 207.5, 208. , 208.5, 209. , 209.5, 210. , 210.5, 211. ,\n",
       "       211.5, 212. , 212.5, 213. , 213.5, 214. , 214.5, 215. , 215.5,\n",
       "       216. , 216.5, 217. , 217.5, 218. , 218.5, 219. , 219.5, 220. ,\n",
       "       220.5, 221. , 221.5, 222. , 222.5, 223. , 223.5, 224. , 224.5,\n",
       "       225. , 225.5, 226. , 226.5, 227. , 227.5, 228. , 228.5, 229. ,\n",
       "       229.5, 230. , 230.5, 231. , 231.5, 232. , 232.5, 233. , 233.5,\n",
       "       234. , 234.5, 235. , 235.5, 236. , 236.5, 237. , 237.5, 238. ,\n",
       "       238.5, 239. , 239.5, 240. , 240.5, 241. , 241.5, 242. , 242.5,\n",
       "       243. , 243.5, 244. , 244.5, 245. , 245.5, 246. , 246.5, 247. ,\n",
       "       247.5, 248. , 248.5, 249. , 249.5, 250. , 250.5, 251. , 251.5,\n",
       "       252. , 252.5, 253. , 253.5, 254. , 254.5, 255. , 255.5, 256. ,\n",
       "       256.5, 257. , 257.5, 258. , 258.5, 259. , 259.5, 260. , 260.5,\n",
       "       261. , 261.5, 262. , 262.5, 263. , 263.5, 264. , 264.5, 265. ,\n",
       "       265.5, 266. , 266.5, 267. , 267.5, 268. , 268.5, 269. , 269.5,\n",
       "       270. , 270.5, 271. , 271.5, 272. , 272.5, 273. , 273.5, 274. ,\n",
       "       274.5, 275. , 275.5, 276. , 276.5, 277. , 277.5, 278. , 278.5,\n",
       "       279. , 279.5, 280. , 280.5, 281. , 281.5, 282. , 282.5, 283. ,\n",
       "       283.5, 284. , 284.5, 285. , 285.5, 286. , 286.5, 287. , 287.5,\n",
       "       288. , 288.5, 289. , 289.5, 290. , 290.5, 291. , 291.5, 292. ,\n",
       "       292.5, 293. , 293.5, 294. , 294.5, 295. , 295.5, 296. , 296.5,\n",
       "       297. , 297.5, 298. , 298.5, 299. , 299.5, 300. , 300.5, 301. ,\n",
       "       301.5, 302. , 302.5, 303. , 303.5, 304. , 304.5, 305. , 305.5,\n",
       "       306. , 306.5, 307. , 307.5, 308. , 308.5, 309. , 309.5, 310. ,\n",
       "       310.5, 311. , 311.5, 312. , 312.5, 313. , 313.5, 314. , 314.5,\n",
       "       315. , 315.5, 316. , 316.5, 317. , 317.5, 318. , 318.5, 319. ,\n",
       "       319.5, 320. , 320.5, 321. , 321.5, 322. , 322.5, 323. , 323.5,\n",
       "       324. , 324.5, 325. , 325.5, 326. , 326.5, 327. , 327.5, 328. ,\n",
       "       328.5, 329. , 329.5, 330. , 330.5, 331. , 331.5, 332. , 332.5,\n",
       "       333. , 333.5, 334. , 334.5, 335. , 335.5, 336. , 336.5, 337. ,\n",
       "       337.5, 338. , 338.5, 339. , 339.5, 340. , 340.5, 341. , 341.5,\n",
       "       342. , 342.5, 343. , 343.5, 344. , 344.5, 345. , 345.5, 346. ,\n",
       "       346.5, 347. , 347.5, 348. , 348.5, 349. , 349.5, 350. , 350.5,\n",
       "       351. , 351.5, 352. , 352.5, 353. , 353.5, 354. , 354.5, 355. ,\n",
       "       355.5, 356. , 356.5, 357. , 357.5, 358. , 358.5, 359. , 359.5,\n",
       "       360. , 360.5, 361. , 361.5, 362. , 362.5, 363. , 363.5, 364. ,\n",
       "       364.5, 365. , 365.5, 366. , 366.5, 367. , 367.5, 368. , 368.5,\n",
       "       369. , 369.5, 370. , 370.5, 371. , 371.5, 372. , 372.5, 373. ,\n",
       "       373.5, 374. , 374.5, 375. , 375.5, 376. , 376.5, 377. , 377.5,\n",
       "       378. , 378.5, 379. , 379.5, 380. , 380.5, 381. , 381.5, 382. ,\n",
       "       382.5, 383. , 383.5, 384. , 384.5, 385. , 385.5, 386. , 386.5,\n",
       "       387. , 387.5, 388. , 388.5, 389. , 389.5, 390. , 390.5, 391. ,\n",
       "       391.5, 392. , 392.5, 393. , 393.5, 394. , 394.5, 395. , 395.5,\n",
       "       396. , 396.5, 397. , 397.5, 398. , 398.5, 399. , 399.5, 400. ,\n",
       "       400.5, 401. , 401.5, 402. , 402.5, 403. , 403.5, 404. , 404.5,\n",
       "       405. , 405.5, 406. , 406.5, 407. , 407.5, 408. , 408.5, 409. ,\n",
       "       409.5, 410. , 410.5, 411. , 411.5, 412. , 412.5, 413. , 413.5,\n",
       "       414. , 414.5, 415. , 415.5, 416. , 416.5, 417. , 417.5, 418. ,\n",
       "       418.5, 419. , 419.5, 420. , 420.5, 421. , 421.5, 422. , 422.5,\n",
       "       423. , 423.5, 424. , 424.5, 425. , 425.5, 426. , 426.5, 427. ,\n",
       "       427.5, 428. , 428.5, 429. , 429.5, 430. , 430.5, 431. , 431.5,\n",
       "       432. , 432.5, 433. , 433.5, 434. , 434.5, 435. , 435.5, 436. ,\n",
       "       436.5, 437. , 437.5, 438. , 438.5, 439. , 439.5, 440. , 440.5,\n",
       "       441. , 441.5, 442. , 442.5, 443. , 443.5, 444. , 444.5, 445. ,\n",
       "       445.5, 446. , 446.5, 447. , 447.5, 448. , 448.5, 449. , 449.5,\n",
       "       450. , 450.5, 451. , 451.5, 452. , 452.5, 453. , 453.5, 454. ,\n",
       "       454.5, 455. , 455.5, 456. , 456.5, 457. , 457.5, 458. , 458.5,\n",
       "       459. , 459.5, 460. , 460.5, 461. , 461.5, 462. , 462.5, 463. ,\n",
       "       463.5, 464. , 464.5, 465. , 465.5, 466. , 466.5, 467. , 467.5,\n",
       "       468. , 468.5, 469. , 469.5, 470. , 470.5, 471. , 471.5, 472. ,\n",
       "       472.5, 473. , 473.5, 474. , 474.5, 475. , 475.5, 476. , 476.5,\n",
       "       477. , 477.5, 478. , 478.5, 479. , 479.5, 480. , 480.5, 481. ,\n",
       "       481.5, 482. , 482.5, 483. , 483.5, 484. , 484.5, 485. , 485.5,\n",
       "       486. , 486.5, 487. , 487.5, 488. , 488.5, 489. , 489.5, 490. ,\n",
       "       490.5, 491. , 491.5, 492. , 492.5, 493. , 493.5, 494. , 494.5,\n",
       "       495. , 495.5, 496. , 496.5, 497. , 497.5, 498. , 498.5, 499. ,\n",
       "       499.5])"
      ]
     },
     "execution_count": 9,
     "metadata": {},
     "output_type": "execute_result"
    }
   ],
   "source": []
  },
  {
   "cell_type": "code",
   "execution_count": 29,
   "metadata": {},
   "outputs": [
    {
     "data": {
      "text/plain": [
       "[0.6627354295503038]"
      ]
     },
     "execution_count": 29,
     "metadata": {},
     "output_type": "execute_result"
    }
   ],
   "source": [
    "listCorrelationAuc"
   ]
  },
  {
   "cell_type": "code",
   "execution_count": null,
   "metadata": {},
   "outputs": [],
   "source": []
  }
 ],
 "metadata": {
  "kernelspec": {
   "display_name": "Python 3",
   "language": "python",
   "name": "python3"
  },
  "language_info": {
   "codemirror_mode": {
    "name": "ipython",
    "version": 3
   },
   "file_extension": ".py",
   "mimetype": "text/x-python",
   "name": "python",
   "nbconvert_exporter": "python",
   "pygments_lexer": "ipython3",
   "version": "3.7.9"
  }
 },
 "nbformat": 4,
 "nbformat_minor": 2
}
