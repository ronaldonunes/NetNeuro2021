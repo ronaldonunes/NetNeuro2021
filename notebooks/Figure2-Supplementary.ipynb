{
 "cells": [
  {
   "cell_type": "markdown",
   "metadata": {},
   "source": [
    "### Figure 2\n",
    " "
   ]
  },
  {
   "cell_type": "code",
   "execution_count": 4,
   "metadata": {},
   "outputs": [],
   "source": [
    "## packages\n",
    "import numpy as np\n",
    "import matplotlib.pyplot as plt\n",
    "from scipy.io import loadmat\n",
    "from sklearn.linear_model import LinearRegression\n",
    "from sklearn.metrics import r2_score\n",
    "import matplotlib as mpl\n",
    "import pandas as pd\n",
    "import seaborn as sns\n",
    "from sklearn import metrics\n",
    "from scipy import stats"
   ]
  },
  {
   "cell_type": "markdown",
   "metadata": {},
   "source": [
    "## All areas"
   ]
  },
  {
   "cell_type": "code",
   "execution_count": 5,
   "metadata": {},
   "outputs": [],
   "source": [
    "# paths to load data\n",
    "pathData = '../data/'\n",
    "pathFln = '../data/Connectome/Kennedy.mat'\n",
    "\n",
    "# Number of areas\n",
    "Nareas=19\n",
    "# Numver of trials\n",
    "Ntrials=10"
   ]
  },
  {
   "cell_type": "markdown",
   "metadata": {},
   "source": [
    "#### FLN"
   ]
  },
  {
   "cell_type": "code",
   "execution_count": 6,
   "metadata": {},
   "outputs": [],
   "source": [
    "# Structural Connectivity\n",
    "# Fln\n",
    "# load FLNs\n",
    "conn = loadmat(pathFln)\n",
    "fln=conn['Fln']"
   ]
  },
  {
   "cell_type": "markdown",
   "metadata": {},
   "source": [
    "#### GPDC Total"
   ]
  },
  {
   "cell_type": "code",
   "execution_count": 7,
   "metadata": {},
   "outputs": [],
   "source": [
    "# Gpdc (Downsample 1kHz)\n",
    "\n",
    "# matrix to store gpdc values\n",
    "gpdcMatrixAUC=np.zeros((Nareas,Nareas,Ntrials)) #(i->j)\n",
    "gpdcMatrixMean=np.zeros((Nareas,Nareas,Ntrials)) #(i->j)\n",
    "\n",
    "\n",
    "for i in range(Ntrials):\n",
    "    #  load GPDC\n",
    "    data = np.load(pathData+'/Seed'+str(i+1)+'/gpdc.npz')\n",
    "    # gpdc values\n",
    "    gpdc=data['arr_1']\n",
    "    # take mean of gpdc \n",
    "    gpdcMatrixMean[:,:,i]=np.mean(gpdc[:,:,:],axis=2).T\n",
    "    \n",
    "    # take auc of gpdc\n",
    "    for k in range(Nareas):\n",
    "        for l in range(Nareas):\n",
    "            gpdcMatrixAUC[k,l,i]=metrics.auc(data['arr_0'],gpdc[l,k,:])\n"
   ]
  },
  {
   "cell_type": "markdown",
   "metadata": {},
   "source": [
    "#### FLN vs GPDC Total peak   (All FLN including those equal to zero)"
   ]
  },
  {
   "cell_type": "code",
   "execution_count": 8,
   "metadata": {},
   "outputs": [
    {
     "data": {
      "image/png": "[encoded data removed]",
      "text/plain": [
       "<Figure size 800x240 with 2 Axes>"
      ]
     },
     "metadata": {},
     "output_type": "display_data"
    }
   ],
   "source": [
    "# define figure size\n",
    "fig=plt.figure(figsize=(10, 3), dpi= 80, facecolor='w', edgecolor='k')\n",
    "\n",
    "# remove right and top axis\n",
    "mpl.rcParams['axes.spines.right'] = False\n",
    "mpl.rcParams['axes.spines.top'] = False\n",
    "\n",
    "# correlation\n",
    "listCorrelationMean=[]\n",
    "listCorrelationAuc=[]\n",
    "\n",
    "# create data structure for scatter plot\n",
    "for seed in range(Ntrials):\n",
    "\n",
    "    # list to store FLN values\n",
    "    listFln=[]\n",
    "    # list to store GPDC values \n",
    "    listGpdcAuc=[]\n",
    "    listGpdcMean=[]\n",
    "    \n",
    "    for i in range(Nareas):\n",
    "        for j in range(Nareas):\n",
    "            if i!=j:\n",
    "\n",
    "                listFln.append(fln[i,j])\n",
    "                listGpdcMean.append(gpdcMatrixMean[i,j,seed])\n",
    "                listGpdcAuc.append(gpdcMatrixAUC[i,j,seed])\n",
    "    \n",
    "    if seed==4:\n",
    "        # Plot scatter plot\n",
    "        plt.subplot(121)\n",
    "        plt.plot(listFln,listGpdcMean,'.b', markersize=8)\n",
    "        plt.subplot(122)\n",
    "        plt.plot(listFln,listGpdcAuc,'.b', markersize=8)\n",
    "    \n",
    "    listCorrelationMean.append(stats.pearsonr(listFln,listGpdcMean)[0])\n",
    "    listCorrelationAuc.append(stats.pearsonr(listFln,listGpdcAuc)[0])\n"
   ]
  },
  {
   "cell_type": "markdown",
   "metadata": {},
   "source": [
    "#### Average correlation between FLN and GPDC"
   ]
  },
  {
   "cell_type": "code",
   "execution_count": 10,
   "metadata": {},
   "outputs": [],
   "source": [
    "df=pd.DataFrame({'AUC':listCorrelationAuc,'Mean':listCorrelationMean })"
   ]
  },
  {
   "cell_type": "code",
   "execution_count": 11,
   "metadata": {},
   "outputs": [
    {
     "data": {
      "text/plain": [
       "([<matplotlib.axis.YTick at 0x7f432429e550>,\n",
       "  <matplotlib.axis.YTick at 0x7f4324299b50>,\n",
       "  <matplotlib.axis.YTick at 0x7f4324296fd0>,\n",
       "  <matplotlib.axis.YTick at 0x7f43241f2210>,\n",
       "  <matplotlib.axis.YTick at 0x7f43241ff150>],\n",
       " [Text(0, 0, ''),\n",
       "  Text(0, 0, ''),\n",
       "  Text(0, 0, ''),\n",
       "  Text(0, 0, ''),\n",
       "  Text(0, 0, '')])"
      ]
     },
     "execution_count": 11,
     "metadata": {},
     "output_type": "execute_result"
    },
    {
     "data": {
      "image/png": "[encoded data removed]",
      "text/plain": [
       "<Figure size 320x320 with 1 Axes>"
      ]
     },
     "metadata": {},
     "output_type": "display_data"
    }
   ],
   "source": [
    "fig=plt.figure(figsize=(4, 4), dpi= 80, facecolor='w', edgecolor='k')\n",
    "sns.boxplot(data=df,showmeans=True,meanprops={\"marker\":\"o\",\n",
    "                       \"markerfacecolor\":\"white\", \n",
    "                       \"markeredgecolor\":\"black\",\n",
    "                      \"markersize\":\"10\"})\n",
    "plt.yticks([0.64,0.65,0.66,0.67,0.68])"
   ]
  }
 ],
 "metadata": {
  "kernelspec": {
   "display_name": "Python 3",
   "language": "python",
   "name": "python3"
  },
  "language_info": {
   "codemirror_mode": {
    "name": "ipython",
    "version": 3
   },
   "file_extension": ".py",
   "mimetype": "text/x-python",
   "name": "python",
   "nbconvert_exporter": "python",
   "pygments_lexer": "ipython3",
   "version": "3.7.9"
  }
 },
 "nbformat": 4,
 "nbformat_minor": 2
}
