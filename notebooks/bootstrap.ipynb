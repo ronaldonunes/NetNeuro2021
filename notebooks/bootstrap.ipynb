{
 "cells": [
  {
   "cell_type": "markdown",
   "metadata": {},
   "source": [
    "### Figure 2\n",
    " "
   ]
  },
  {
   "cell_type": "code",
   "execution_count": 1,
   "metadata": {},
   "outputs": [
    {
     "name": "stderr",
     "output_type": "stream",
     "text": [
      "Matplotlib created a temporary config/cache directory at /tmp/matplotlib-5zhpxugt because the default path (/home/ronaldo/.config/matplotlib) is not a writable directory; it is highly recommended to set the MPLCONFIGDIR environment variable to a writable directory, in particular to speed up the import of Matplotlib and to better support multiprocessing.\n",
      "Matplotlib is building the font cache; this may take a moment.\n"
     ]
    }
   ],
   "source": [
    "## packages\n",
    "import numpy as np\n",
    "import matplotlib.pyplot as plt\n",
    "from scipy.io import loadmat\n",
    "from sklearn.linear_model import LinearRegression\n",
    "from sklearn.metrics import r2_score\n",
    "import matplotlib as mpl\n",
    "import pandas as pd\n",
    "import seaborn as sns\n",
    "from scipy import stats"
   ]
  },
  {
   "cell_type": "markdown",
   "metadata": {},
   "source": [
    "## All areas"
   ]
  },
  {
   "cell_type": "code",
   "execution_count": 2,
   "metadata": {},
   "outputs": [],
   "source": [
    "# paths to load data\n",
    "pathData = '/home/ronaldo/Dados/ProjectUfabc/MouseData/SimulationData/'\n",
    "pathFln = '/home/ronaldo/github/ProjectUfabc/MouseKennedySNN/Data/Connectome/Kennedy.mat'\n",
    "\n",
    "# Number of areas\n",
    "Nareas=19\n",
    "# Numver of trials\n",
    "Ntrials=10"
   ]
  },
  {
   "cell_type": "markdown",
   "metadata": {},
   "source": [
    "#### FLN"
   ]
  },
  {
   "cell_type": "code",
   "execution_count": 3,
   "metadata": {},
   "outputs": [],
   "source": [
    "# Structural Connectivity\n",
    "# Fln\n",
    "# load FLNs\n",
    "conn = loadmat(pathFln)\n",
    "fln=conn['Fln']\n",
    "# assign nan to diagonal\n",
    "np.fill_diagonal(fln, np.nan)\n",
    "\n",
    "# vetor Fln\n",
    "vetorFln=fln.flatten()\n",
    "\n",
    "# remove nan from Fln\n",
    "vetorFln=vetorFln[~np.isnan(vetorFln)]"
   ]
  },
  {
   "cell_type": "markdown",
   "metadata": {},
   "source": [
    "#### GPDC Total"
   ]
  },
  {
   "cell_type": "code",
   "execution_count": 4,
   "metadata": {},
   "outputs": [],
   "source": [
    "# Gpdc (Downsample 1kHz)\n",
    "\n",
    "# matrix to store gpdc values\n",
    "vetorGpdc=np.zeros((Nareas*Nareas-Nareas,Ntrials)) #(i->j)\n",
    "\n",
    "\n",
    "for i in range(Ntrials):\n",
    "    #  load GPDC\n",
    "    data = np.load(pathData+'/Seed'+str(i+1)+'/gpdc.npz')\n",
    "    # gpdc values\n",
    "    gpdc=data['arr_1']\n",
    "    # take peak of gpdc \n",
    "    temp=np.max(gpdc[:,:,:],axis=2).T\n",
    "    # assign nan to diagonal\n",
    "    np.fill_diagonal(temp,np.nan)\n",
    "    temp=temp.flatten()\n",
    "    # vetor Gpdc without nan\n",
    "    vetorGpdc[:,i]=temp[~np.isnan(temp)]\n"
   ]
  },
  {
   "cell_type": "code",
   "execution_count": 5,
   "metadata": {},
   "outputs": [
    {
     "name": "stdout",
     "output_type": "stream",
     "text": [
      "There are duplicates\n"
     ]
    }
   ],
   "source": [
    "# index\n",
    "\n",
    "trials=1000\n",
    "samples=80\n",
    "\n",
    "matrixIdx=np.zeros((trials,samples))\n",
    "for i in range(trials):\n",
    "    matrixIdx[i,:]=np.random.choice(np.arange(np.size(vetorFln)), size=samples, replace=False)\n",
    "    \n",
    "# check duplicates\n",
    "unq, count = np.unique(matrixIdx, axis=0, return_counts=True)\n",
    "\n",
    "if np.sum(count)>np.size(vetorFln):\n",
    "   print('There are duplicates') "
   ]
  },
  {
   "cell_type": "code",
   "execution_count": 6,
   "metadata": {},
   "outputs": [],
   "source": [
    "# Falta calcular a correlação\n",
    "correlation=[]\n",
    "\n",
    "for i in range(trials):\n",
    "    flns=vetorFln[np.int64(matrixIdx[i,:])]\n",
    "    gpdc=vetorGpdc[np.int64(matrixIdx[i,:]),:]  \n",
    "    for j in range(Ntrials):              \n",
    "        correlation.append(stats.pearsonr(flns,gpdc[:,j])[0])"
   ]
  },
  {
   "cell_type": "code",
   "execution_count": 7,
   "metadata": {},
   "outputs": [
    {
     "data": {
      "text/plain": [
       "(0.0, 600.0)"
      ]
     },
     "execution_count": 7,
     "metadata": {},
     "output_type": "execute_result"
    },
    {
     "data": {
      "image/png": "[encoded data removed]",
      "text/plain": [
       "<Figure size 700x500 with 1 Axes>"
      ]
     },
     "metadata": {},
     "output_type": "display_data"
    }
   ],
   "source": [
    "import matplotlib as mpl\n",
    "\n",
    "mpl.rcParams['axes.spines.right'] = False\n",
    "mpl.rcParams['axes.spines.top'] = False\n",
    "\n",
    "fig=plt.figure(figsize=(7,5), dpi= 100, facecolor='w', edgecolor='k')\n",
    "sns.histplot(correlation)\n",
    "plt.plot([np.mean(correlation),np.mean(correlation)],[0,600],'k--')\n",
    "plt.xlim([0.2,1])\n",
    "plt.ylim([0,600])"
   ]
  },
  {
   "cell_type": "code",
   "execution_count": 8,
   "metadata": {},
   "outputs": [
    {
     "data": {
      "text/plain": [
       "0.7394363735000157"
      ]
     },
     "execution_count": 8,
     "metadata": {},
     "output_type": "execute_result"
    }
   ],
   "source": [
    "np.mean(correlation)"
   ]
  },
  {
   "cell_type": "code",
   "execution_count": null,
   "metadata": {},
   "outputs": [],
   "source": []
  }
 ],
 "metadata": {
  "kernelspec": {
   "display_name": "Python 3",
   "language": "python",
   "name": "python3"
  },
  "language_info": {
   "codemirror_mode": {
    "name": "ipython",
    "version": 3
   },
   "file_extension": ".py",
   "mimetype": "text/x-python",
   "name": "python",
   "nbconvert_exporter": "python",
   "pygments_lexer": "ipython3",
   "version": "3.7.9"
  }
 },
 "nbformat": 4,
 "nbformat_minor": 2
}
